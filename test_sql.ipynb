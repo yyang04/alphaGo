{
 "cells": [
  {
   "cell_type": "code",
   "id": "initial_id",
   "metadata": {
    "collapsed": true,
    "ExecuteTime": {
     "end_time": "2024-11-10T13:01:30.602520Z",
     "start_time": "2024-11-10T13:01:23.725933Z"
    }
   },
   "source": [
    "import pandas as pd\n",
    "import numpy as np\n",
    "\n",
    "\n",
    "dfdemo = pd.DataFrame(\n",
    "    {\n",
    "        'category': np.random.choice(list('ABCDEF'), 50000000),\n",
    "        'val': np.round(np.random.uniform(0, 1000000, 50000000), 3)\n",
    "    }\n",
    ")\n",
    "dfdemo.to_parquet('dfdemo.parquet', index=False)"
   ],
   "execution_count": 1,
   "outputs": []
  },
  {
   "metadata": {
    "ExecuteTime": {
     "end_time": "2024-11-10T13:02:25.730470Z",
     "start_time": "2024-11-10T13:02:25.484741Z"
    }
   },
   "cell_type": "code",
   "source": [
    "import ibis\n",
    "ibis.options.interactive = True"
   ],
   "id": "c9d53e0250e7403",
   "execution_count": 2,
   "outputs": []
  },
  {
   "metadata": {
    "ExecuteTime": {
     "end_time": "2024-11-10T13:02:35.560258Z",
     "start_time": "2024-11-10T13:02:35.394803Z"
    }
   },
   "cell_type": "code",
   "source": "con = ibis.duckdb.connect()",
   "id": "917703bbc760f0af",
   "execution_count": 3,
   "outputs": []
  },
  {
   "metadata": {
    "ExecuteTime": {
     "end_time": "2024-11-10T18:31:18.751117Z",
     "start_time": "2024-11-10T18:31:18.740096Z"
    }
   },
   "cell_type": "code",
   "source": "tb = con.read_parquet('data/history.parquet', table_name='test')",
   "id": "ee076f159bfe371b",
   "execution_count": 10,
   "outputs": []
  },
  {
   "metadata": {
    "ExecuteTime": {
     "end_time": "2024-11-10T18:31:20.189553Z",
     "start_time": "2024-11-10T18:31:20.165181Z"
    }
   },
   "cell_type": "code",
   "source": "con.list_tables()",
   "id": "d541d162de1081b6",
   "execution_count": 11,
   "outputs": []
  },
  {
   "metadata": {
    "ExecuteTime": {
     "end_time": "2024-11-10T18:31:21.102693Z",
     "start_time": "2024-11-10T18:31:21.088168Z"
    }
   },
   "cell_type": "code",
   "source": "con.sql(\"\"\"select count(*) from test\"\"\").to_pandas()",
   "id": "40e594df74bbcbd",
   "execution_count": 12,
   "outputs": []
  },
  {
   "metadata": {},
   "cell_type": "code",
   "execution_count": null,
   "source": "",
   "id": "51f7955bd7324c0a",
   "outputs": []
  }
 ],
 "metadata": {
  "kernelspec": {
   "display_name": "Python 3",
   "language": "python",
   "name": "python3"
  },
  "language_info": {
   "codemirror_mode": {
    "name": "ipython",
    "version": 2
   },
   "file_extension": ".py",
   "mimetype": "text/x-python",
   "name": "python",
   "nbconvert_exporter": "python",
   "pygments_lexer": "ipython2",
   "version": "2.7.6"
  }
 },
 "nbformat": 4,
 "nbformat_minor": 5
}
