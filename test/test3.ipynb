{
 "cells": [
  {
   "cell_type": "code",
   "id": "initial_id",
   "metadata": {
    "collapsed": true,
    "ExecuteTime": {
     "end_time": "2025-02-03T04:47:20.482838Z",
     "start_time": "2025-02-03T04:47:20.472405Z"
    }
   },
   "source": "import tomllib",
   "outputs": [],
   "execution_count": 1
  },
  {
   "metadata": {
    "ExecuteTime": {
     "end_time": "2025-02-03T04:54:42.543473Z",
     "start_time": "2025-02-03T04:54:42.539843Z"
    }
   },
   "cell_type": "code",
   "source": [
    "with open(\"../conf/common.toml\", \"rb\") as f:\n",
    "    toml_dict = tomllib.load(f)"
   ],
   "id": "93d95482f01fd854",
   "outputs": [],
   "execution_count": 4
  },
  {
   "metadata": {
    "ExecuteTime": {
     "end_time": "2025-02-03T10:26:07.602094Z",
     "start_time": "2025-02-03T10:26:07.598470Z"
    }
   },
   "cell_type": "code",
   "source": "[i['name'] for i in toml_dict['tables']]",
   "id": "ef8f2a09b884eb9a",
   "outputs": [
    {
     "data": {
      "text/plain": [
       "['stockHistoryDaily',\n",
       " 'indexHistoryDaily',\n",
       " 'conceptHistoryDaily',\n",
       " 'stockConcept',\n",
       " 'industryHistoryDaily',\n",
       " 'stockIndustries']"
      ]
     },
     "execution_count": 10,
     "metadata": {},
     "output_type": "execute_result"
    }
   ],
   "execution_count": 10
  },
  {
   "metadata": {
    "ExecuteTime": {
     "end_time": "2025-02-03T10:25:43.581959Z",
     "start_time": "2025-02-03T10:25:43.577844Z"
    }
   },
   "cell_type": "code",
   "source": "toml_dict",
   "id": "7cfc5358e5b7393d",
   "outputs": [
    {
     "data": {
      "text/plain": [
       "{'tables': [{'name': 'stockHistoryDaily',\n",
       "   'key': ['dt', 'code'],\n",
       "   'desc': '股票天极K线',\n",
       "   'fetch_function': 'fetch_stock_history'},\n",
       "  {'name': 'indexHistoryDaily',\n",
       "   'key': ['dt'],\n",
       "   'desc': '大盘天级K线',\n",
       "   'fetch_function': 'fetch_global_index_history'},\n",
       "  {'name': 'conceptHistoryDaily',\n",
       "   'key': ['dt', 'name'],\n",
       "   'desc': '板块天级K线',\n",
       "   'fetch_function': 'fetch_concept_history'},\n",
       "  {'name': 'stockConcept',\n",
       "   'key': ['dt', 'name', 'code'],\n",
       "   'desc': '股票板块',\n",
       "   'fetch_function': 'fetch_stock_concept'},\n",
       "  {'name': 'industryHistoryDaily',\n",
       "   'key': ['dt', 'name'],\n",
       "   'desc': '行业天级K线',\n",
       "   'fetch_function': 'fetch_industry_history'},\n",
       "  {'name': 'stockIndustries',\n",
       "   'key': ['dt', 'name', 'code'],\n",
       "   'desc': '股票行业',\n",
       "   'fetch_function': 'fetch_stock_industry'}]}"
      ]
     },
     "execution_count": 8,
     "metadata": {},
     "output_type": "execute_result"
    }
   ],
   "execution_count": 8
  },
  {
   "metadata": {},
   "cell_type": "code",
   "outputs": [],
   "execution_count": null,
   "source": "",
   "id": "4c57775920891788"
  }
 ],
 "metadata": {
  "kernelspec": {
   "display_name": "Python 3",
   "language": "python",
   "name": "python3"
  },
  "language_info": {
   "codemirror_mode": {
    "name": "ipython",
    "version": 2
   },
   "file_extension": ".py",
   "mimetype": "text/x-python",
   "name": "python",
   "nbconvert_exporter": "python",
   "pygments_lexer": "ipython2",
   "version": "2.7.6"
  }
 },
 "nbformat": 4,
 "nbformat_minor": 5
}
