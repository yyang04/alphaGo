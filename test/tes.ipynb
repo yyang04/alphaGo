{
 "cells": [
  {
   "cell_type": "code",
   "id": "initial_id",
   "metadata": {
    "collapsed": true,
    "ExecuteTime": {
     "end_time": "2024-12-14T11:41:53.095774Z",
     "start_time": "2024-12-14T11:41:52.399555Z"
    }
   },
   "source": "import pandas as pd",
   "execution_count": 1,
   "outputs": []
  },
  {
   "metadata": {
    "ExecuteTime": {
     "end_time": "2024-12-14T14:29:49.064999Z",
     "start_time": "2024-12-14T14:29:48.417844Z"
    }
   },
   "cell_type": "code",
   "source": "df = pd.read_parquet('stock_history.parquet')",
   "id": "2dc0f3e1205cf17f",
   "execution_count": 18,
   "outputs": []
  },
  {
   "metadata": {
    "ExecuteTime": {
     "end_time": "2024-12-14T11:41:55.501148Z",
     "start_time": "2024-12-14T11:41:54.985375Z"
    }
   },
   "cell_type": "code",
   "source": "df['dt'] = pd.to_datetime(df['dt'])",
   "id": "4ffa786209402d13",
   "execution_count": 3,
   "outputs": []
  },
  {
   "metadata": {
    "ExecuteTime": {
     "end_time": "2024-12-14T11:41:58.002439Z",
     "start_time": "2024-12-14T11:41:57.997531Z"
    }
   },
   "cell_type": "code",
   "source": "df.set_index('dt', inplace=True)",
   "id": "71e394344483cdcd",
   "execution_count": 4,
   "outputs": []
  },
  {
   "metadata": {
    "ExecuteTime": {
     "end_time": "2024-12-14T14:28:52.479942Z",
     "start_time": "2024-12-14T14:28:49.912449Z"
    }
   },
   "cell_type": "code",
   "source": "df.to_parquet('test.parquet')",
   "id": "ed08d2d20ca95382",
   "execution_count": 11,
   "outputs": []
  },
  {
   "metadata": {
    "ExecuteTime": {
     "end_time": "2024-12-14T14:29:05.577154Z",
     "start_time": "2024-12-14T14:29:03.293439Z"
    }
   },
   "cell_type": "code",
   "source": "a = pd.read_parquet('test.parquet')",
   "id": "12ad49d727461865",
   "execution_count": 12,
   "outputs": []
  },
  {
   "metadata": {
    "ExecuteTime": {
     "end_time": "2024-12-14T14:29:42.470065Z",
     "start_time": "2024-12-14T14:29:42.413469Z"
    }
   },
   "cell_type": "code",
   "source": "a.index",
   "id": "6ddd3f047d80cfe4",
   "execution_count": 17,
   "outputs": []
  },
  {
   "metadata": {
    "ExecuteTime": {
     "end_time": "2024-12-14T14:29:56.342669Z",
     "start_time": "2024-12-14T14:29:56.337927Z"
    }
   },
   "cell_type": "code",
   "source": "df.index",
   "id": "683f7b5ef05880ba",
   "execution_count": 20,
   "outputs": []
  },
  {
   "metadata": {
    "ExecuteTime": {
     "end_time": "2024-12-11T15:24:29.557965Z",
     "start_time": "2024-12-11T15:24:29.237750Z"
    }
   },
   "cell_type": "code",
   "source": "sample_df = df[(df['code'] == '002681') & (df.index > pd.to_datetime('2024-11-25'))].copy()",
   "id": "46257020942f5359",
   "execution_count": 30,
   "outputs": []
  },
  {
   "metadata": {
    "ExecuteTime": {
     "end_time": "2024-12-14T11:45:11.807024Z",
     "start_time": "2024-12-14T11:45:05.657696Z"
    }
   },
   "cell_type": "code",
   "source": [
    "def common_stock(x:str):\n",
    "    prefixes = ['300', '688', '43', '83', '87']\n",
    "    return not any(x.startswith(p) for p in prefixes)\n",
    "\n",
    "filter_df = df[df['code'].apply(common_stock)]"
   ],
   "id": "5a966904d2e015e5",
   "execution_count": 9,
   "outputs": []
  },
  {
   "metadata": {
    "ExecuteTime": {
     "end_time": "2024-12-14T11:43:11.896326Z",
     "start_time": "2024-12-14T11:43:11.883955Z"
    }
   },
   "cell_type": "code",
   "source": "df",
   "id": "754406c6a8ffdf9b",
   "execution_count": 8,
   "outputs": []
  },
  {
   "metadata": {
    "ExecuteTime": {
     "end_time": "2024-12-14T11:45:17.502622Z",
     "start_time": "2024-12-14T11:45:17.490848Z"
    }
   },
   "cell_type": "code",
   "source": "filter_df",
   "id": "e30d81b2e0f3bbfb",
   "execution_count": 10,
   "outputs": []
  },
  {
   "metadata": {
    "ExecuteTime": {
     "end_time": "2024-12-15T06:00:47.841553Z",
     "start_time": "2024-12-15T06:00:47.818520Z"
    }
   },
   "cell_type": "code",
   "source": "meta_df = pd.read_csv('meta.csv')",
   "id": "d3325425e9648df5",
   "execution_count": 44,
   "outputs": []
  },
  {
   "metadata": {
    "ExecuteTime": {
     "end_time": "2024-12-15T06:04:34.989596Z",
     "start_time": "2024-12-15T06:04:34.984808Z"
    }
   },
   "cell_type": "code",
   "source": [
    "for index, row in meta_df.iterrows():\n",
    "    print(row.tableName)"
   ],
   "id": "4642a20ea2f21a1c",
   "execution_count": 48,
   "outputs": []
  },
  {
   "metadata": {},
   "cell_type": "code",
   "execution_count": null,
   "source": "",
   "id": "ef2c7c9013e2082c",
   "outputs": []
  },
  {
   "metadata": {},
   "cell_type": "code",
   "execution_count": null,
   "source": "",
   "id": "c22c74d7f0e59c38",
   "outputs": []
  },
  {
   "metadata": {
    "ExecuteTime": {
     "end_time": "2024-12-11T15:37:58.240516Z",
     "start_time": "2024-12-11T15:37:58.236184Z"
    }
   },
   "cell_type": "code",
   "source": "sample_df['amplitude_0'] = (sample_df['high_price']-sample_df['low_price']) / sample_df['close_price'].shift(1) * 100",
   "id": "c50333ce30c5faa2",
   "execution_count": 49,
   "outputs": []
  },
  {
   "metadata": {
    "ExecuteTime": {
     "end_time": "2024-12-11T15:40:30.995543Z",
     "start_time": "2024-12-11T15:40:30.990748Z"
    }
   },
   "cell_type": "code",
   "source": "sample_df['change_percentage_0'] = (sample_df['close_price'] - sample_df['close_price'].shift(1)) / sample_df['close_price'].shift(1) * 100",
   "id": "15236c5a4637d5ee",
   "execution_count": 53,
   "outputs": []
  },
  {
   "metadata": {
    "ExecuteTime": {
     "end_time": "2024-12-11T15:44:21.360177Z",
     "start_time": "2024-12-11T15:44:21.356331Z"
    }
   },
   "cell_type": "code",
   "source": "sample_df['price_avg'] = sample_df['amount'] / sample_df['volume'] / 100",
   "id": "bc3141922e91504d",
   "execution_count": 58,
   "outputs": []
  },
  {
   "metadata": {
    "ExecuteTime": {
     "end_time": "2024-12-11T15:46:33.250708Z",
     "start_time": "2024-12-11T15:46:33.244834Z"
    }
   },
   "cell_type": "code",
   "source": "sample_df['volume'] / sample_df['turnover_ratio']",
   "id": "4eba368e8172897b",
   "execution_count": 61,
   "outputs": []
  },
  {
   "metadata": {
    "ExecuteTime": {
     "end_time": "2024-12-11T15:44:51.043908Z",
     "start_time": "2024-12-11T15:44:51.037007Z"
    }
   },
   "cell_type": "code",
   "source": "sample_df[['open_price', 'close_price', 'low_price', 'high_price', 'price_avg']]",
   "id": "f22529f992b05d08",
   "execution_count": 60,
   "outputs": []
  },
  {
   "metadata": {
    "ExecuteTime": {
     "end_time": "2024-12-11T15:31:08.614386Z",
     "start_time": "2024-12-11T15:31:08.609659Z"
    }
   },
   "cell_type": "code",
   "source": "(8.46-7.66)/7.66",
   "id": "c66cb536b57edba5",
   "execution_count": 41,
   "outputs": []
  },
  {
   "metadata": {
    "ExecuteTime": {
     "end_time": "2024-12-11T15:34:25.106642Z",
     "start_time": "2024-12-11T15:34:25.102466Z"
    }
   },
   "cell_type": "code",
   "source": "(7.69-7.25)/0.0629",
   "id": "49c1668ec40f44ce",
   "execution_count": 46,
   "outputs": []
  },
  {
   "metadata": {
    "ExecuteTime": {
     "end_time": "2024-12-12T18:55:08.574427Z",
     "start_time": "2024-12-12T18:55:08.419413Z"
    }
   },
   "cell_type": "code",
   "source": "sample_df",
   "id": "aaae9e81fc497984",
   "execution_count": 1,
   "outputs": []
  },
  {
   "metadata": {
    "ExecuteTime": {
     "end_time": "2024-12-11T15:19:53.082207Z",
     "start_time": "2024-12-11T15:19:53.078102Z"
    }
   },
   "cell_type": "code",
   "source": "df.index",
   "id": "cd283664f9a9e42d",
   "execution_count": 23,
   "outputs": []
  },
  {
   "metadata": {
    "ExecuteTime": {
     "end_time": "2024-12-12T18:55:22.895011Z",
     "start_time": "2024-12-12T18:55:21.537488Z"
    }
   },
   "cell_type": "code",
   "source": [
    "df = pd.read_parquet('stock_history.parquet')\n",
    "df['dt'] = pd.to_datetime(df['dt'])\n",
    "df.set_index('dt', inplace=True)\n",
    "sample_df = df[(df['code'] == '601360') & (df.index > pd.to_datetime('2024-11-11'))].copy()"
   ],
   "id": "bc58f60afd4c1392",
   "execution_count": 6,
   "outputs": []
  },
  {
   "metadata": {
    "ExecuteTime": {
     "end_time": "2024-12-11T16:14:04.931453Z",
     "start_time": "2024-12-11T16:14:04.924322Z"
    }
   },
   "cell_type": "code",
   "source": "sample_df[['turnover_ratio']]",
   "id": "e69dbb8df9feeb7c",
   "execution_count": 74,
   "outputs": []
  },
  {
   "metadata": {
    "ExecuteTime": {
     "end_time": "2024-12-12T18:55:26.920442Z",
     "start_time": "2024-12-12T18:55:26.903595Z"
    }
   },
   "cell_type": "code",
   "source": "sample_df",
   "id": "32abccbe7d2ce10f",
   "execution_count": 7,
   "outputs": []
  },
  {
   "metadata": {
    "ExecuteTime": {
     "end_time": "2024-12-12T19:09:13.683541Z",
     "start_time": "2024-12-12T19:09:13.679241Z"
    }
   },
   "cell_type": "code",
   "source": [
    "sample_df['l_high_g5'] = sample_df['high_price'].shift(-1)/sample_df['close_price'] > 1.05\n",
    "sample_df['l_high_g8'] = sample_df['high_price'].shift(-1)/sample_df['close_price'] > 1.08\n",
    "sample_df['l_close_l2'] = sample_df['close_price'].shift(-1)/sample_df['close_price'] < 0.99"
   ],
   "id": "e377081756795abd",
   "execution_count": 21,
   "outputs": []
  },
  {
   "metadata": {
    "ExecuteTime": {
     "end_time": "2024-12-12T19:09:14.216771Z",
     "start_time": "2024-12-12T19:09:14.201616Z"
    }
   },
   "cell_type": "code",
   "source": "sample_df",
   "id": "364f90a379876b9b",
   "execution_count": 22,
   "outputs": []
  },
  {
   "metadata": {
    "ExecuteTime": {
     "end_time": "2024-12-14T16:01:34.640977Z",
     "start_time": "2024-12-14T16:01:34.043962Z"
    }
   },
   "cell_type": "code",
   "source": "import akshare as ak",
   "id": "20cb3066a2633b62",
   "execution_count": 21,
   "outputs": []
  },
  {
   "metadata": {
    "ExecuteTime": {
     "end_time": "2024-12-14T16:01:39.745189Z",
     "start_time": "2024-12-14T16:01:39.504239Z"
    }
   },
   "cell_type": "code",
   "source": "stock_board_concept_name_em_df = ak.stock_board_concept_name_em()",
   "id": "5b56c66845b98cf8",
   "execution_count": 22,
   "outputs": []
  },
  {
   "metadata": {
    "ExecuteTime": {
     "end_time": "2024-12-14T16:01:58.940573Z",
     "start_time": "2024-12-14T16:01:58.930823Z"
    }
   },
   "cell_type": "code",
   "source": "stock_board_concept_name_em_df",
   "id": "1b4f30209837244c",
   "execution_count": 23,
   "outputs": []
  },
  {
   "metadata": {
    "ExecuteTime": {
     "end_time": "2024-12-14T17:29:47.484666Z",
     "start_time": "2024-12-14T17:29:47.181774Z"
    }
   },
   "cell_type": "code",
   "source": "stock_board_concept_cons_em_df = ak.stock_board_concept_cons_em(symbol=\"昨日连板\")",
   "id": "20d62c3425fdcdd7",
   "execution_count": 43,
   "outputs": []
  },
  {
   "metadata": {
    "ExecuteTime": {
     "end_time": "2024-12-14T16:47:13.454558Z",
     "start_time": "2024-12-14T16:47:13.431181Z"
    }
   },
   "cell_type": "code",
   "source": "stock_board_concept_cons_em_df",
   "id": "1527b9c8e592a199",
   "execution_count": 40,
   "outputs": []
  },
  {
   "metadata": {
    "ExecuteTime": {
     "end_time": "2024-12-14T16:47:20.940723Z",
     "start_time": "2024-12-14T16:47:20.504953Z"
    }
   },
   "cell_type": "code",
   "source": "stock_board_concept_hist_em_df = ak.stock_board_concept_hist_em(symbol=\"昨日连板\", period=\"daily\", start_date=\"20090101\", end_date=\"20250101\", adjust=\"qfq\")",
   "id": "3b9c3940b7cafb25",
   "execution_count": 41,
   "outputs": []
  },
  {
   "metadata": {
    "ExecuteTime": {
     "end_time": "2024-12-14T16:47:22.087493Z",
     "start_time": "2024-12-14T16:47:22.077344Z"
    }
   },
   "cell_type": "code",
   "source": "stock_board_concept_hist_em_df",
   "id": "7c9548d42b803571",
   "execution_count": 42,
   "outputs": []
  },
  {
   "metadata": {
    "ExecuteTime": {
     "end_time": "2024-12-15T06:22:44.522334Z",
     "start_time": "2024-12-15T06:22:43.784891Z"
    }
   },
   "cell_type": "code",
   "source": "stock_zh_a_spot_em_df = ak.stock_zh_a_spot_em()",
   "id": "1f52cd8ab24ea04b",
   "execution_count": 49,
   "outputs": []
  },
  {
   "metadata": {
    "ExecuteTime": {
     "end_time": "2024-12-15T06:22:45.553405Z",
     "start_time": "2024-12-15T06:22:45.534127Z"
    }
   },
   "cell_type": "code",
   "source": "stock_zh_a_spot_em_df",
   "id": "afbd94ef7eb523aa",
   "execution_count": 50,
   "outputs": []
  },
  {
   "metadata": {
    "ExecuteTime": {
     "end_time": "2024-12-15T12:54:52.745146Z",
     "start_time": "2024-12-15T12:54:52.305976Z"
    }
   },
   "cell_type": "code",
   "source": [
    "import akshare as ak\n",
    "ak.stock_board_concept_hist_em(symbol=\"Kimi概念\", start_date='20110101', end_date='20240601')"
   ],
   "id": "8f78c765af011f43",
   "execution_count": 70,
   "outputs": []
  },
  {
   "metadata": {
    "ExecuteTime": {
     "end_time": "2024-12-15T12:53:52.861635Z",
     "start_time": "2024-12-15T12:53:52.858937Z"
    }
   },
   "cell_type": "code",
   "source": "",
   "id": "b54ecc5ebcf4dbbd",
   "execution_count": 62,
   "outputs": []
  },
  {
   "metadata": {
    "ExecuteTime": {
     "end_time": "2024-12-15T14:29:23.840279Z",
     "start_time": "2024-12-15T14:29:23.566624Z"
    }
   },
   "cell_type": "code",
   "source": "ak.stock_board_industry_hist_em(symbol='燃气',start_date='19700101', end_date='20250101', adjust='qfq')",
   "id": "22cec9453e00eea2",
   "execution_count": 75,
   "outputs": []
  },
  {
   "metadata": {},
   "cell_type": "code",
   "execution_count": null,
   "source": [
    "from sklearn.preprocessing import LabelEncoder\n",
    "label_encoder = LabelEncoder()\n",
    "categorical_feature = ['cat', 'dog', 'bird', 'cat']\n",
    "encoded_categorical_feature = label_encoder.fit_transform(categorical_feature)\n",
    "print(len(label_encoder.classes_))"
   ],
   "id": "7134cfbe7d3e9176",
   "outputs": []
  },
  {
   "metadata": {},
   "cell_type": "code",
   "execution_count": null,
   "source": "1",
   "id": "7c01dd6ff6dfe400",
   "outputs": []
  },
  {
   "metadata": {},
   "cell_type": "code",
   "execution_count": null,
   "source": "1==1",
   "id": "8d8f681f7a9b7aba",
   "outputs": []
  },
  {
   "metadata": {
    "ExecuteTime": {
     "end_time": "2024-12-22T15:27:11.605403Z",
     "start_time": "2024-12-22T15:27:10.894206Z"
    }
   },
   "cell_type": "code",
   "source": "import pandas as pd",
   "id": "ff93dc3c866b83a1",
   "execution_count": 2,
   "outputs": []
  },
  {
   "metadata": {
    "ExecuteTime": {
     "end_time": "2024-12-22T15:27:27.173114Z",
     "start_time": "2024-12-22T15:27:25.460560Z"
    }
   },
   "cell_type": "code",
   "source": "data = pd.read_parquet('../data/raw_data/stockHistoryDaily.parquet')",
   "id": "1503a9c5eee7d1cb",
   "execution_count": 4,
   "outputs": []
  },
  {
   "metadata": {
    "ExecuteTime": {
     "end_time": "2024-12-22T15:32:21.403879Z",
     "start_time": "2024-12-22T15:32:20.928852Z"
    }
   },
   "cell_type": "code",
   "source": "data['high_price_overall'] = data.groupby('code')['high_price'].transform('cummax')",
   "id": "731cad0ff8b7ef45",
   "execution_count": 12,
   "outputs": []
  },
  {
   "metadata": {
    "ExecuteTime": {
     "end_time": "2024-12-22T15:38:02.902838Z",
     "start_time": "2024-12-22T15:38:01.454111Z"
    }
   },
   "cell_type": "code",
   "source": "data.loc[data['code'] == '000001', ['high_price_overall']].plot()",
   "id": "72798f7903fc496",
   "execution_count": 19,
   "outputs": []
  },
  {
   "metadata": {
    "ExecuteTime": {
     "end_time": "2024-12-22T15:36:01.943616Z",
     "start_time": "2024-12-22T15:36:01.932058Z"
    }
   },
   "cell_type": "code",
   "source": "data",
   "id": "c25e6752ce332b99",
   "execution_count": 17,
   "outputs": []
  },
  {
   "metadata": {},
   "cell_type": "code",
   "execution_count": null,
   "source": "",
   "id": "e4d69d4b4d077dfd",
   "outputs": []
  }
 ],
 "metadata": {
  "kernelspec": {
   "display_name": "Python 3",
   "language": "python",
   "name": "python3"
  },
  "language_info": {
   "codemirror_mode": {
    "name": "ipython",
    "version": 2
   },
   "file_extension": ".py",
   "mimetype": "text/x-python",
   "name": "python",
   "nbconvert_exporter": "python",
   "pygments_lexer": "ipython2",
   "version": "2.7.6"
  }
 },
 "nbformat": 4,
 "nbformat_minor": 5
}
