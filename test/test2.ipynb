{
 "cells": [
  {
   "cell_type": "code",
   "id": "initial_id",
   "metadata": {
    "collapsed": true,
    "ExecuteTime": {
     "end_time": "2024-12-22T09:21:50.707614Z",
     "start_time": "2024-12-22T09:21:49.889360Z"
    }
   },
   "source": [
    "from sklearn.preprocessing import LabelEncoder\n",
    "label_encoder = LabelEncoder()\n",
    "categorical_feature = ['cat', 'dog', 'bird', 'cat']\n",
    "encoded_categorical_feature = label_encoder.fit_transform(categorical_feature)\n",
    "print(len(label_encoder.classes_))"
   ],
   "outputs": [
    {
     "name": "stdout",
     "output_type": "stream",
     "text": [
      "3\n"
     ]
    }
   ],
   "execution_count": 2
  },
  {
   "metadata": {
    "ExecuteTime": {
     "end_time": "2024-12-22T09:23:43.474429Z",
     "start_time": "2024-12-22T09:23:43.469621Z"
    }
   },
   "cell_type": "code",
   "source": "import joblib",
   "id": "73e6ae353fa1bf23",
   "outputs": [],
   "execution_count": 4
  },
  {
   "metadata": {
    "ExecuteTime": {
     "end_time": "2024-12-22T09:24:08.508964Z",
     "start_time": "2024-12-22T09:24:08.503292Z"
    }
   },
   "cell_type": "code",
   "source": "joblib.dump(label_encoder, 'label_encoder.joblib')",
   "id": "e64a3c54920e5b69",
   "outputs": [
    {
     "data": {
      "text/plain": [
       "['label_encoder.joblib']"
      ]
     },
     "execution_count": 5,
     "metadata": {},
     "output_type": "execute_result"
    }
   ],
   "execution_count": 5
  },
  {
   "metadata": {
    "ExecuteTime": {
     "end_time": "2024-12-22T09:24:34.670472Z",
     "start_time": "2024-12-22T09:24:34.665384Z"
    }
   },
   "cell_type": "code",
   "source": "loaded_label_encoder = joblib.load('label_encoder.joblib')",
   "id": "532975d6058fdf6a",
   "outputs": [],
   "execution_count": 6
  },
  {
   "metadata": {
    "ExecuteTime": {
     "end_time": "2024-12-22T09:25:11.721346Z",
     "start_time": "2024-12-22T09:25:11.717658Z"
    }
   },
   "cell_type": "code",
   "source": "label_encoder.classes_",
   "id": "52ab50c42d8e9561",
   "outputs": [
    {
     "data": {
      "text/plain": [
       "array(['bird', 'cat', 'dog'], dtype='<U4')"
      ]
     },
     "execution_count": 8,
     "metadata": {},
     "output_type": "execute_result"
    }
   ],
   "execution_count": 8
  },
  {
   "metadata": {
    "ExecuteTime": {
     "end_time": "2024-12-22T09:27:10.412334Z",
     "start_time": "2024-12-22T09:27:10.394350Z"
    }
   },
   "cell_type": "code",
   "source": "from sklearn.feature_extraction import FeatureHasher",
   "id": "927f407f5703ee19",
   "outputs": [],
   "execution_count": 9
  },
  {
   "metadata": {
    "ExecuteTime": {
     "end_time": "2024-12-22T09:27:11.501471Z",
     "start_time": "2024-12-22T09:27:11.496832Z"
    }
   },
   "cell_type": "code",
   "source": [
    "data = [{\"category\": \"apple\"}, {\"category\": \"banana\"}, {\"category\": \"apple\"}]\n",
    "hasher = FeatureHasher(n_features = 10, input_type='string')"
   ],
   "id": "6328a4ebd545905e",
   "outputs": [],
   "execution_count": 10
  },
  {
   "metadata": {
    "ExecuteTime": {
     "end_time": "2024-12-22T09:27:22.307395Z",
     "start_time": "2024-12-22T09:27:22.301704Z"
    }
   },
   "cell_type": "code",
   "source": "X = hasher.transform(data)",
   "id": "76253558629ee303",
   "outputs": [],
   "execution_count": 11
  },
  {
   "metadata": {
    "ExecuteTime": {
     "end_time": "2024-12-22T09:27:31.100411Z",
     "start_time": "2024-12-22T09:27:31.095083Z"
    }
   },
   "cell_type": "code",
   "source": "X.toarray()",
   "id": "a29bcff223087648",
   "outputs": [
    {
     "data": {
      "text/plain": [
       "array([[0., 0., 1., 0., 0., 0., 0., 0., 0., 0.],\n",
       "       [0., 0., 1., 0., 0., 0., 0., 0., 0., 0.],\n",
       "       [0., 0., 1., 0., 0., 0., 0., 0., 0., 0.]])"
      ]
     },
     "execution_count": 13,
     "metadata": {},
     "output_type": "execute_result"
    }
   ],
   "execution_count": 13
  },
  {
   "metadata": {
    "ExecuteTime": {
     "end_time": "2024-12-22T09:28:58.520869Z",
     "start_time": "2024-12-22T09:28:58.516973Z"
    }
   },
   "cell_type": "code",
   "source": "label_encoder.transform(['cat'])",
   "id": "d3d3b61e84354ced",
   "outputs": [
    {
     "data": {
      "text/plain": [
       "array([1])"
      ]
     },
     "execution_count": 16,
     "metadata": {},
     "output_type": "execute_result"
    }
   ],
   "execution_count": 16
  },
  {
   "metadata": {
    "ExecuteTime": {
     "end_time": "2024-12-22T09:30:07.077957Z",
     "start_time": "2024-12-22T09:30:07.074278Z"
    }
   },
   "cell_type": "code",
   "source": [
    "import numpy as np\n",
    "from sklearn.preprocessing import LabelEncoder\n",
    "# 假设这是已经拟合的LabelEncoder和旧数据\n",
    "label_encoder = LabelEncoder()\n",
    "old_data = np.array(['cat', 'dog', 'bird'])\n",
    "label_encoder.fit(old_data)\n",
    "# 新数据\n",
    "new_data = np.array(['cat', 'dog', 'bird', 'fish'])\n",
    "new_classes = np.setdiff1d(new_data, label_encoder.classes_)"
   ],
   "id": "35c1fa854ba62fd1",
   "outputs": [],
   "execution_count": 17
  },
  {
   "metadata": {
    "ExecuteTime": {
     "end_time": "2024-12-22T09:30:25.751885Z",
     "start_time": "2024-12-22T09:30:25.748682Z"
    }
   },
   "cell_type": "code",
   "source": [
    "new_classes_full = np.concatenate((label_encoder.classes_, new_classes))\n",
    "label_encoder.classes_ = new_classes_full\n",
    "# 重新分配编码（这是一个简单的示例，实际可能更复杂）\n",
    "for i, new_class in enumerate(new_classes):\n",
    "    print(label_encoder.transform([new_class]))"
   ],
   "id": "2d35937dc3f422f",
   "outputs": [
    {
     "name": "stdout",
     "output_type": "stream",
     "text": [
      "[4]\n"
     ]
    }
   ],
   "execution_count": 19
  },
  {
   "metadata": {
    "ExecuteTime": {
     "end_time": "2024-12-22T14:57:12.945980Z",
     "start_time": "2024-12-22T14:57:12.252802Z"
    }
   },
   "cell_type": "code",
   "source": "import pandas as pd",
   "id": "b945ed8a404050a",
   "outputs": [],
   "execution_count": 1
  },
  {
   "metadata": {
    "ExecuteTime": {
     "end_time": "2024-12-22T14:59:11.285196Z",
     "start_time": "2024-12-22T14:59:09.808835Z"
    }
   },
   "cell_type": "code",
   "source": "pd.read_parquet('../data/raw_data/stockHistoryDaily.parquet').index.max()",
   "id": "ecd1957288aaf50e",
   "outputs": [
    {
     "data": {
      "text/plain": [
       "13"
      ]
     },
     "execution_count": 4,
     "metadata": {},
     "output_type": "execute_result"
    }
   ],
   "execution_count": 4
  },
  {
   "metadata": {},
   "cell_type": "code",
   "outputs": [],
   "execution_count": null,
   "source": "",
   "id": "16928c180f355bb3"
  }
 ],
 "metadata": {
  "kernelspec": {
   "display_name": "Python 3",
   "language": "python",
   "name": "python3"
  },
  "language_info": {
   "codemirror_mode": {
    "name": "ipython",
    "version": 2
   },
   "file_extension": ".py",
   "mimetype": "text/x-python",
   "name": "python",
   "nbconvert_exporter": "python",
   "pygments_lexer": "ipython2",
   "version": "2.7.6"
  }
 },
 "nbformat": 4,
 "nbformat_minor": 5
}
